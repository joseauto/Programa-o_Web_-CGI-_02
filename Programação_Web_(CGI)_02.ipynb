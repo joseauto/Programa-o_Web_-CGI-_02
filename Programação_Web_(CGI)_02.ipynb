{
  "nbformat": 4,
  "nbformat_minor": 0,
  "metadata": {
    "colab": {
      "provenance": [],
      "authorship_tag": "ABX9TyPbZqY6nmyLfK21PWsd1AbO",
      "include_colab_link": true
    },
    "kernelspec": {
      "name": "python3",
      "display_name": "Python 3"
    },
    "language_info": {
      "name": "python"
    }
  },
  "cells": [
    {
      "cell_type": "markdown",
      "metadata": {
        "id": "view-in-github",
        "colab_type": "text"
      },
      "source": [
        "<a href=\"https://colab.research.google.com/github/joseauto/Programa-o_Web_-CGI-_02/blob/main/Programa%C3%A7%C3%A3o_Web_(CGI)_02.ipynb\" target=\"_parent\"><img src=\"https://colab.research.google.com/assets/colab-badge.svg\" alt=\"Open In Colab\"/></a>"
      ]
    },
    {
      "cell_type": "markdown",
      "source": [
        "# Aluno:\n",
        "* José Auto Araujo Neto"
      ],
      "metadata": {
        "id": "zT5zCgufy3f9"
      }
    },
    {
      "cell_type": "markdown",
      "source": [
        "# Configuração do Servidor"
      ],
      "metadata": {
        "id": "h95XD5rWy_a-"
      }
    },
    {
      "cell_type": "markdown",
      "source": [
        "* No arquivo de configuração do Apache"
      ],
      "metadata": {
        "id": "MhS2q5dXzUc5"
      }
    },
    {
      "cell_type": "code",
      "execution_count": null,
      "metadata": {
        "id": "_SM7-cUKxRPq"
      },
      "outputs": [],
      "source": [
        "<Directory \"/caminho/para/cgi-bin\">\n",
        "    Options +ExecCGI\n",
        "    AddHandler cgi-script .cgi\n",
        "</Directory>"
      ]
    },
    {
      "cell_type": "markdown",
      "source": [
        "* Certifique-se de que o CGI esteja habilitado no Apache"
      ],
      "metadata": {
        "id": "a4skNiV_zdZW"
      }
    },
    {
      "cell_type": "code",
      "source": [
        "sudo a2enmod cgi\n",
        "sudo systemctl restart apache2"
      ],
      "metadata": {
        "id": "mM3KEz-dzjiQ"
      },
      "execution_count": null,
      "outputs": []
    },
    {
      "cell_type": "markdown",
      "source": [
        "# Página HTML"
      ],
      "metadata": {
        "id": "V-RmP2yRzoEs"
      }
    },
    {
      "cell_type": "markdown",
      "source": [
        "* Crie o arquivo calculadora.html que será a interface do usuário para inserir números e escolher uma operação."
      ],
      "metadata": {
        "id": "PXDCVwM0zsc5"
      }
    },
    {
      "cell_type": "code",
      "source": [
        "<!DOCTYPE html>\n",
        "<html lang=\"pt-BR\">\n",
        "<head>\n",
        "    <meta charset=\"UTF-8\">\n",
        "    <title>Calculadora</title>\n",
        "</head>\n",
        "<body>\n",
        "    <h1>Calculadora Simples</h1>\n",
        "    <form action=\"/cgi-bin/calculadora.cgi\" method=\"post\">\n",
        "        <label for=\"num1\">Número 1:</label>\n",
        "        <input type=\"text\" id=\"num1\" name=\"num1\" required><br><br>\n",
        "\n",
        "        <label for=\"num2\">Número 2:</label>\n",
        "        <input type=\"text\" id=\"num2\" name=\"num2\" required><br><br>\n",
        "\n",
        "        <label for=\"operacao\">Operação:</label>\n",
        "        <select id=\"operacao\" name=\"operacao\">\n",
        "            <option value=\"add\">Adição</option>\n",
        "            <option value=\"sub\">Subtração</option>\n",
        "            <option value=\"mul\">Multiplicação</option>\n",
        "            <option value=\"div\">Divisão</option>\n",
        "        </select><br><br>\n",
        "\n",
        "        <button type=\"submit\">Calcular</button>\n",
        "    </form>\n",
        "</body>\n",
        "</html>"
      ],
      "metadata": {
        "id": "ps2-L10Cz3Fu"
      },
      "execution_count": null,
      "outputs": []
    },
    {
      "cell_type": "markdown",
      "source": [
        "# Script Bash CGI (Calculadora)"
      ],
      "metadata": {
        "id": "lteubuUkz4rF"
      }
    },
    {
      "cell_type": "markdown",
      "source": [
        "* O script calculadora.cgi processa os dados enviados pelo formulário via POST, executa a operação e exibe o resultado. Coloque esse script no diretório cgi-bin configurado no Apache.\n",
        "\n",
        "* Crie o arquivo calculadora.cgi com o seguinte conteúdo:"
      ],
      "metadata": {
        "id": "kcCi6PQ50GgU"
      }
    },
    {
      "cell_type": "code",
      "source": [
        "#!/bin/bash\n",
        "\n",
        "echo \"Content-Type: text/html\"\n",
        "echo \"\"\n",
        "\n",
        "read_input() {\n",
        "    local input\n",
        "    read -r input\n",
        "    echo \"$input\"\n",
        "}\n",
        "\n",
        "DATA=$(read_input)\n",
        "\n",
        "NUM1=$(echo \"$DATA\" | grep -oP 'num1=\\K[0-9]+(\\.[0-9]+)?')\n",
        "NUM2=$(echo \"$DATA\" | grep -oP 'num2=\\K[0-9]+(\\.[0-9]+)?')\n",
        "OPERACAO=$(echo \"$DATA\" | grep -oP 'operacao=\\K[^&]+')\n",
        "\n",
        "if [[ -z \"$NUM1\" || -z \"$NUM2\" ]]; then\n",
        "    echo \"<html><body><h2>Erro: Ambos os campos devem conter valores numéricos válidos.</h2></body></html>\"\n",
        "    exit 1\n",
        "fi\n",
        "\n",
        "case \"$OPERACAO\" in\n",
        "    add)\n",
        "        RESULTADO=$(echo \"$NUM1 + $NUM2\" | bc)\n",
        "        OPERACAO_SIMBOLO=\"+\"\n",
        "        ;;\n",
        "    sub)\n",
        "        RESULTADO=$(echo \"$NUM1 - $NUM2\" | bc)\n",
        "        OPERACAO_SIMBOLO=\"-\"\n",
        "        ;;\n",
        "    mul)\n",
        "        RESULTADO=$(echo \"$NUM1 * $NUM2\" | bc)\n",
        "        OPERACAO_SIMBOLO=\"*\"\n",
        "        ;;\n",
        "    div)\n",
        "        if [[ \"$NUM2\" == \"0\" ]]; then\n",
        "            echo \"<html><body><h2>Erro: Divisão por zero não é permitida.</h2></body></html>\"\n",
        "            exit 1\n",
        "        fi\n",
        "        RESULTADO=$(echo \"scale=2; $NUM1 / $NUM2\" | bc)\n",
        "        OPERACAO_SIMBOLO=\"/\"\n",
        "        ;;\n",
        "    *)\n",
        "        echo \"<html><body><h2>Erro: Operação inválida.</h2></body></html>\"\n",
        "        exit 1\n",
        "        ;;\n",
        "esac\n",
        "\n",
        "echo \"<html><body>\"\n",
        "echo \"<h1>Resultado da Operação</h1>\"\n",
        "echo \"<p>${NUM1} ${OPERACAO_SIMBOLO} ${NUM2} = ${RESULTADO}</p>\"\n",
        "echo \"</body></html>\""
      ],
      "metadata": {
        "id": "yg0IjRwy0Cre"
      },
      "execution_count": null,
      "outputs": []
    },
    {
      "cell_type": "markdown",
      "source": [
        "# Testando Aplicação"
      ],
      "metadata": {
        "id": "8Z1Xcjio0lsu"
      }
    },
    {
      "cell_type": "markdown",
      "source": [
        " * Acesse a página calculadora.html no navegador (exemplo, http://localhost/calculadora.html).\n",
        "\n",
        "\n"
      ],
      "metadata": {
        "id": "kkFUKVGn0oYg"
      }
    },
    {
      "cell_type": "markdown",
      "source": [
        "* Preencha os campos e selecione uma operação."
      ],
      "metadata": {
        "id": "A6XWQIUe03PP"
      }
    },
    {
      "cell_type": "markdown",
      "source": [
        "* Observação: Certifique-se de que o script calculadora.cgi tem permissão de execução:"
      ],
      "metadata": {
        "id": "cKXCGGuR1AI-"
      }
    },
    {
      "cell_type": "code",
      "source": [
        "chmod +x /caminho/para/cgi-bin/calculadora.cgi"
      ],
      "metadata": {
        "id": "xD37G-Lx1HId"
      },
      "execution_count": null,
      "outputs": []
    }
  ]
}